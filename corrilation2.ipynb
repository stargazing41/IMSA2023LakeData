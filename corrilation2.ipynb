{
 "cells": [
  {
   "cell_type": "code",
   "execution_count": 3,
   "metadata": {},
   "outputs": [],
   "source": [
    "import numpy as np\n",
    "import matplotlib.pyplot as plt\n",
    "import json\n",
    "import pandas as pd"
   ]
  },
  {
   "cell_type": "code",
   "execution_count": 4,
   "metadata": {},
   "outputs": [],
   "source": [
    "def coeficiant(openwater, ndvi):\n",
    "    years = [str(t) for t in range(1985, 2019)]\n",
    "    months = [\"{:02d}\".format(m) for m in range(1, 13)]\n",
    "    \n",
    "    num_columns = 409 #82*6 + 1\n",
    "    df = pd.DataFrame(columns = range(num_columns))\n",
    "    for lake_id in ndvi.keys():\n",
    "        data_row = [lake_id]\n",
    "        for y in years:\n",
    "            for m in months:\n",
    "                y_and_m = {}\n",
    "                output = 0\n",
    "                count = 0\n",
    "                for i, item in enumerate(ndvi[lake_id][\"Ndvi_time\"]):\n",
    "                    if y + \"-\" + m in item:\n",
    "                        output = float(ndvi[lake_id][\"Ndvi\"][i]) + output\n",
    "                        count += 1\n",
    "                if count == 0:\n",
    "                     continue\n",
    "                avg = output / count\n",
    "                data_row.append(avg)\n",
    "        df.loc[len(df)] = data_row\n",
    "    \n",
    "    dc = [\"Hylak_id\"]\n",
    "    for y in years:\n",
    "        for m in months:\n",
    "            dc.append(str(y) + \"-\" + str(m))\n",
    "    df.columns = dc\n",
    "    \n",
    "    hold_coeficiant = {}\n",
    "    nan_coeficiant = {}\n",
    "    for lake_i in range(df.shape[0]):\n",
    "        lake_id = df[\"Hylak_id\"][lake_i]\n",
    "        ndvi_mesurments = df.iloc[lake_i, 1:]\n",
    "        surface_area = openwater[openwater[\"Hylak_id\"] == int(lake_id)].values[0][1:]\n",
    "        assert len(surface_area) == len(ndvi_mesurments)\n",
    "        surface_area = np.array(surface_area, dtype=float)\n",
    "        ndvi_mesurments = np.array(ndvi_mesurments, dtype=float)\n",
    "        coeficiant = np.corrcoef(surface_area, ndvi_mesurments)[0, 1]\n",
    "        if not np.isnan(coeficiant):        \n",
    "            hold_coeficiant[lake_id] = coeficiant\n",
    "        else:\n",
    "            nan_coeficiant[lake_id] = 0\n",
    "    return hold_coeficiant, nan_coeficiant\n"
   ]
  },
  {
   "cell_type": "code",
   "execution_count": 5,
   "metadata": {},
   "outputs": [],
   "source": [
    "file_openwater_area = \"local-data/1_openwater_area.csv\"\n",
    "openwater = pd.read_csv(file_openwater_area)"
   ]
  },
  {
   "cell_type": "code",
   "execution_count": 8,
   "metadata": {},
   "outputs": [],
   "source": [
    "file_ndvis = [\n",
    "\"/home/derick/workspace/IMSACODE/IMSA2023LakeData/ndvi_and_time_of_lakes_min5_max15_2023-12-05-00-23-01.json\",\n",
    "\"/home/derick/workspace/IMSACODE/IMSA2023LakeData/ndvi_and_time_of_lakes_min15_max25_2023-12-05-01-02-22.json\",\n",
    "\"/home/derick/workspace/IMSACODE/IMSA2023LakeData/ndvi_and_time_of_lakes_min25_max35_2023-12-05-01-18-17.json\",\n",
    "\"/home/derick/workspace/IMSACODE/IMSA2023LakeData/ndvi_and_time_of_lakes_min35_max45_2023-12-05-01-27-46.json\",\n",
    "\"/home/derick/workspace/IMSACODE/IMSA2023LakeData/ndvi_and_time_of_lakes_min45_max55_2023-12-05-01-33-43.json\",\n",
    "\"/home/derick/workspace/IMSACODE/IMSA2023LakeData/ndvi_and_time_of_lakes_min55_max65_2023-12-05-01-38-22.json\"]\n"
   ]
  },
  {
   "cell_type": "code",
   "execution_count": 13,
   "metadata": {},
   "outputs": [
    {
     "name": "stderr",
     "output_type": "stream",
     "text": [
      "/home/derick/workspace/IMSACODE/IMSA2023LakeData/virtualenv/lib/python3.10/site-packages/numpy/lib/function_base.py:2897: RuntimeWarning: invalid value encountered in divide\n",
      "  c /= stddev[:, None]\n",
      "/home/derick/workspace/IMSACODE/IMSA2023LakeData/virtualenv/lib/python3.10/site-packages/numpy/lib/function_base.py:2898: RuntimeWarning: invalid value encountered in divide\n",
      "  c /= stddev[None, :]\n"
     ]
    },
    {
     "name": "stdout",
     "output_type": "stream",
     "text": [
      "492 22886\n"
     ]
    },
    {
     "name": "stderr",
     "output_type": "stream",
     "text": [
      "/home/derick/workspace/IMSACODE/IMSA2023LakeData/virtualenv/lib/python3.10/site-packages/numpy/lib/function_base.py:2897: RuntimeWarning: invalid value encountered in divide\n",
      "  c /= stddev[:, None]\n",
      "/home/derick/workspace/IMSACODE/IMSA2023LakeData/virtualenv/lib/python3.10/site-packages/numpy/lib/function_base.py:2898: RuntimeWarning: invalid value encountered in divide\n",
      "  c /= stddev[None, :]\n"
     ]
    },
    {
     "name": "stdout",
     "output_type": "stream",
     "text": [
      "114 4233\n"
     ]
    },
    {
     "name": "stderr",
     "output_type": "stream",
     "text": [
      "/home/derick/workspace/IMSACODE/IMSA2023LakeData/virtualenv/lib/python3.10/site-packages/numpy/lib/function_base.py:2897: RuntimeWarning: invalid value encountered in divide\n",
      "  c /= stddev[:, None]\n",
      "/home/derick/workspace/IMSACODE/IMSA2023LakeData/virtualenv/lib/python3.10/site-packages/numpy/lib/function_base.py:2898: RuntimeWarning: invalid value encountered in divide\n",
      "  c /= stddev[None, :]\n"
     ]
    },
    {
     "name": "stdout",
     "output_type": "stream",
     "text": [
      "50 1726\n"
     ]
    },
    {
     "name": "stderr",
     "output_type": "stream",
     "text": [
      "/home/derick/workspace/IMSACODE/IMSA2023LakeData/virtualenv/lib/python3.10/site-packages/numpy/lib/function_base.py:2897: RuntimeWarning: invalid value encountered in divide\n",
      "  c /= stddev[:, None]\n",
      "/home/derick/workspace/IMSACODE/IMSA2023LakeData/virtualenv/lib/python3.10/site-packages/numpy/lib/function_base.py:2898: RuntimeWarning: invalid value encountered in divide\n",
      "  c /= stddev[None, :]\n"
     ]
    },
    {
     "name": "stdout",
     "output_type": "stream",
     "text": [
      "39 1031\n"
     ]
    },
    {
     "name": "stderr",
     "output_type": "stream",
     "text": [
      "/home/derick/workspace/IMSACODE/IMSA2023LakeData/virtualenv/lib/python3.10/site-packages/numpy/lib/function_base.py:2897: RuntimeWarning: invalid value encountered in divide\n",
      "  c /= stddev[:, None]\n",
      "/home/derick/workspace/IMSACODE/IMSA2023LakeData/virtualenv/lib/python3.10/site-packages/numpy/lib/function_base.py:2898: RuntimeWarning: invalid value encountered in divide\n",
      "  c /= stddev[None, :]\n"
     ]
    },
    {
     "name": "stdout",
     "output_type": "stream",
     "text": [
      "36 629\n"
     ]
    },
    {
     "name": "stderr",
     "output_type": "stream",
     "text": [
      "/home/derick/workspace/IMSACODE/IMSA2023LakeData/virtualenv/lib/python3.10/site-packages/numpy/lib/function_base.py:2897: RuntimeWarning: invalid value encountered in divide\n",
      "  c /= stddev[:, None]\n",
      "/home/derick/workspace/IMSACODE/IMSA2023LakeData/virtualenv/lib/python3.10/site-packages/numpy/lib/function_base.py:2898: RuntimeWarning: invalid value encountered in divide\n",
      "  c /= stddev[None, :]\n"
     ]
    },
    {
     "name": "stdout",
     "output_type": "stream",
     "text": [
      "34 487\n"
     ]
    }
   ],
   "source": [
    "min = 5\n",
    "max = 15\n",
    "for file in file_ndvis:\n",
    "    with open(file, \"r\") as inf:\n",
    "        ndvi = json.load(inf)\n",
    "        hold_coeficiant, nan_coeficiant = coeficiant(openwater, ndvi)\n",
    "        values = list(hold_coeficiant.values())\n",
    "\n",
    "        plt.figure()\n",
    "        plt.hist(values,bins=1000, edgecolor = \"black\")\n",
    "        plt.xlabel(\"Correlation Coeficiants\")\n",
    "        plt.ylabel(\"Frequency\")\n",
    "        plt.title(f\"Histagram Correlation Between NDVI and Lake Surface Area Range {min}-{max}\")\n",
    "        plt.savefig(f\"Histagram_of_Correlation_Between_NDVI_and_Lake_Surface_Area_With_Ranges_{min}-{max}_1000_Lakes.png\")\n",
    "        plt.close()\n",
    "        print(len(nan_coeficiant), len(hold_coeficiant))\n",
    "        min = max\n",
    "        max += 10"
   ]
  },
  {
   "cell_type": "code",
   "execution_count": 6,
   "metadata": {},
   "outputs": [],
   "source": [
    "file_ndvis = [\n",
    "\"/home/derick/workspace/IMSACODE/IMSA2023LakeData/ndvi_and_time_of_lakes_min15_max25_2023-12-05-01-02-22.json\",\n",
    "\"/home/derick/workspace/IMSACODE/IMSA2023LakeData/ndvi_and_time_of_lakes_min25_max35_2023-12-05-01-18-17.json\",\n",
    "\"/home/derick/workspace/IMSACODE/IMSA2023LakeData/ndvi_and_time_of_lakes_min35_max45_2023-12-05-01-27-46.json\",\n",
    "\"/home/derick/workspace/IMSACODE/IMSA2023LakeData/ndvi_and_time_of_lakes_min45_max55_2023-12-05-01-33-43.json\",\n",
    "\"/home/derick/workspace/IMSACODE/IMSA2023LakeData/ndvi_and_time_of_lakes_min55_max65_2023-12-05-01-38-22.json\"]\n"
   ]
  },
  {
   "cell_type": "code",
   "execution_count": 10,
   "metadata": {},
   "outputs": [
    {
     "name": "stderr",
     "output_type": "stream",
     "text": [
      "/home/derick/workspace/IMSACODE/IMSA2023LakeData/virtualenv/lib/python3.10/site-packages/numpy/lib/function_base.py:2897: RuntimeWarning: invalid value encountered in divide\n",
      "  c /= stddev[:, None]\n",
      "/home/derick/workspace/IMSACODE/IMSA2023LakeData/virtualenv/lib/python3.10/site-packages/numpy/lib/function_base.py:2898: RuntimeWarning: invalid value encountered in divide\n",
      "  c /= stddev[None, :]\n"
     ]
    },
    {
     "name": "stdout",
     "output_type": "stream",
     "text": [
      "114 4233\n"
     ]
    },
    {
     "name": "stderr",
     "output_type": "stream",
     "text": [
      "/home/derick/workspace/IMSACODE/IMSA2023LakeData/virtualenv/lib/python3.10/site-packages/numpy/lib/function_base.py:2897: RuntimeWarning: invalid value encountered in divide\n",
      "  c /= stddev[:, None]\n",
      "/home/derick/workspace/IMSACODE/IMSA2023LakeData/virtualenv/lib/python3.10/site-packages/numpy/lib/function_base.py:2898: RuntimeWarning: invalid value encountered in divide\n",
      "  c /= stddev[None, :]\n"
     ]
    },
    {
     "name": "stdout",
     "output_type": "stream",
     "text": [
      "50 1726\n"
     ]
    },
    {
     "name": "stderr",
     "output_type": "stream",
     "text": [
      "/home/derick/workspace/IMSACODE/IMSA2023LakeData/virtualenv/lib/python3.10/site-packages/numpy/lib/function_base.py:2897: RuntimeWarning: invalid value encountered in divide\n",
      "  c /= stddev[:, None]\n",
      "/home/derick/workspace/IMSACODE/IMSA2023LakeData/virtualenv/lib/python3.10/site-packages/numpy/lib/function_base.py:2898: RuntimeWarning: invalid value encountered in divide\n",
      "  c /= stddev[None, :]\n"
     ]
    },
    {
     "name": "stdout",
     "output_type": "stream",
     "text": [
      "39 1031\n"
     ]
    },
    {
     "name": "stderr",
     "output_type": "stream",
     "text": [
      "/home/derick/workspace/IMSACODE/IMSA2023LakeData/virtualenv/lib/python3.10/site-packages/numpy/lib/function_base.py:2897: RuntimeWarning: invalid value encountered in divide\n",
      "  c /= stddev[:, None]\n",
      "/home/derick/workspace/IMSACODE/IMSA2023LakeData/virtualenv/lib/python3.10/site-packages/numpy/lib/function_base.py:2898: RuntimeWarning: invalid value encountered in divide\n",
      "  c /= stddev[None, :]\n"
     ]
    },
    {
     "name": "stdout",
     "output_type": "stream",
     "text": [
      "36 629\n"
     ]
    },
    {
     "name": "stderr",
     "output_type": "stream",
     "text": [
      "/home/derick/workspace/IMSACODE/IMSA2023LakeData/virtualenv/lib/python3.10/site-packages/numpy/lib/function_base.py:2897: RuntimeWarning: invalid value encountered in divide\n",
      "  c /= stddev[:, None]\n",
      "/home/derick/workspace/IMSACODE/IMSA2023LakeData/virtualenv/lib/python3.10/site-packages/numpy/lib/function_base.py:2898: RuntimeWarning: invalid value encountered in divide\n",
      "  c /= stddev[None, :]\n"
     ]
    },
    {
     "name": "stdout",
     "output_type": "stream",
     "text": [
      "34 487\n"
     ]
    }
   ],
   "source": [
    "min = 15\n",
    "max = 25\n",
    "bins = [200, 100, 50, 30, 20]\n",
    "for bi, file in enumerate(file_ndvis):\n",
    "    with open(file, \"r\") as inf:\n",
    "        ndvi = json.load(inf)\n",
    "        hold_coeficiant, nan_coeficiant = coeficiant(openwater, ndvi)\n",
    "        values = list(hold_coeficiant.values())\n",
    "\n",
    "        plt.figure()\n",
    "        plt.hist(values,bins=bins[bi], color = \"black\")\n",
    "        plt.xlabel(\"Correlation Coeficiants\")\n",
    "        plt.ylabel(\"Frequency\")\n",
    "        plt.title(f\"Histagram Correlation Between NDVI and Lake Surface Area Range {min}-{max}\")\n",
    "        plt.savefig(f\"Histagram_of_Correlation_Between_NDVI_and_Lake_Surface_Area_With_Ranges_{min}-{max}_{bins[bi]}_Lakes.png\")\n",
    "        plt.close()\n",
    "        print(len(nan_coeficiant), len(hold_coeficiant))\n",
    "        min = max\n",
    "        max += 10"
   ]
  }
 ],
 "metadata": {
  "kernelspec": {
   "display_name": "Python 3 (ipykernel)",
   "language": "python",
   "name": "python3"
  },
  "language_info": {
   "codemirror_mode": {
    "name": "ipython",
    "version": 3
   },
   "file_extension": ".py",
   "mimetype": "text/x-python",
   "name": "python",
   "nbconvert_exporter": "python",
   "pygments_lexer": "ipython3",
   "version": "3.10.12"
  }
 },
 "nbformat": 4,
 "nbformat_minor": 4
}
